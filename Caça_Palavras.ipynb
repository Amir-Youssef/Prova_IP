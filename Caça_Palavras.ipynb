{
  "nbformat": 4,
  "nbformat_minor": 0,
  "metadata": {
    "colab": {
      "provenance": [],
      "authorship_tag": "ABX9TyN6d3DvIBUO8dbdYpRwQNmA",
      "include_colab_link": true
    },
    "kernelspec": {
      "name": "python3",
      "display_name": "Python 3"
    },
    "language_info": {
      "name": "python"
    }
  },
  "cells": [
    {
      "cell_type": "markdown",
      "metadata": {
        "id": "view-in-github",
        "colab_type": "text"
      },
      "source": [
        "<a href=\"https://colab.research.google.com/github/Amir-Youssef/Prova_IP/blob/main/Ca%C3%A7a_Palavras.ipynb\" target=\"_parent\"><img src=\"https://colab.research.google.com/assets/colab-badge.svg\" alt=\"Open In Colab\"/></a>"
      ]
    },
    {
      "cell_type": "code",
      "execution_count": null,
      "metadata": {
        "id": "2gPgXC8DirRS"
      },
      "outputs": [],
      "source": [
        "from random import randint \n",
        "n = int(input(\"Digite a quantidade de palavras que quer acrecentar ao caça palavras: \"))\n",
        "s = input(\"Digite a palavra base: \") \n",
        "s = list(s)\n",
        "maior = s \n",
        "for i in range(0,n):\n",
        "  pala = input(\"Digite a palavra: \")\n",
        "  c = pala[0]\n",
        "  lst = []\n",
        "  for pos, char in enumerate(s): \n",
        "    if char == c:p\n",
        "        lst.append(pos)\n",
        "\n",
        "  if len(lst) == 0:\n",
        "    s.append(pala)\n",
        "  else:\n",
        "    lposi = lst[randint(0, len(lst) - 1)] \n",
        "    s[lposi] = pala\n",
        "\n",
        "  if len(pala) > len(maior): \n",
        "    maior = pala\n",
        "\n",
        "for letra in s:\n",
        "    if len(letra) == len(maior):\n",
        "        for i in letra:\n",
        "            print(i, end=' ')\n",
        "    else: \n",
        "        for c in range(len(maior) - len(letra)):\n",
        "            letra += chr(randint(ord('a'), ord('z')))\n",
        "        for i in letra:\n",
        "            print(i, end=' ')\n",
        "    print()"
      ]
    }
  ]
}